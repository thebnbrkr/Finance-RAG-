{
  "nbformat": 4,
  "nbformat_minor": 0,
  "metadata": {
    "colab": {
      "provenance": [],
      "toc_visible": true
    },
    "kernelspec": {
      "name": "python3",
      "display_name": "Python 3"
    },
    "language_info": {
      "name": "python"
    }
  },
  "cells": [
    {
      "cell_type": "code",
      "execution_count": null,
      "metadata": {
        "id": "RRYSu48huSUW",
        "colab": {
          "base_uri": "https://localhost:8080/"
        },
        "outputId": "52f77fb4-e520-45db-ecba-6451ac7ac19f"
      },
      "outputs": [
        {
          "output_type": "stream",
          "name": "stdout",
          "text": [
            "\u001b[2K     \u001b[90m━━━━━━━━━━━━━━━━━━━━━━━━━━━━━━━━━━━━━━━━\u001b[0m \u001b[32m803.3/803.3 kB\u001b[0m \u001b[31m4.2 MB/s\u001b[0m eta \u001b[36m0:00:00\u001b[0m\n",
            "\u001b[2K     \u001b[90m━━━━━━━━━━━━━━━━━━━━━━━━━━━━━━━━━━━━━━━━\u001b[0m \u001b[32m225.4/225.4 kB\u001b[0m \u001b[31m7.5 MB/s\u001b[0m eta \u001b[36m0:00:00\u001b[0m\n",
            "\u001b[2K     \u001b[90m━━━━━━━━━━━━━━━━━━━━━━━━━━━━━━━━━━━━━━━━\u001b[0m \u001b[32m2.0/2.0 MB\u001b[0m \u001b[31m14.5 MB/s\u001b[0m eta \u001b[36m0:00:00\u001b[0m\n",
            "\u001b[2K     \u001b[90m━━━━━━━━━━━━━━━━━━━━━━━━━━━━━━━━━━━━━━━━\u001b[0m \u001b[32m1.5/1.5 MB\u001b[0m \u001b[31m11.0 MB/s\u001b[0m eta \u001b[36m0:00:00\u001b[0m\n",
            "\u001b[2K     \u001b[90m━━━━━━━━━━━━━━━━━━━━━━━━━━━━━━━━━━━━━━━━\u001b[0m \u001b[32m208.0/208.0 kB\u001b[0m \u001b[31m8.2 MB/s\u001b[0m eta \u001b[36m0:00:00\u001b[0m\n",
            "\u001b[2K     \u001b[90m━━━━━━━━━━━━━━━━━━━━━━━━━━━━━━━━━━━━━━━━\u001b[0m \u001b[32m48.2/48.2 kB\u001b[0m \u001b[31m942.0 kB/s\u001b[0m eta \u001b[36m0:00:00\u001b[0m\n",
            "\u001b[2K     \u001b[90m━━━━━━━━━━━━━━━━━━━━━━━━━━━━━━━━━━━━━━━━\u001b[0m \u001b[32m75.9/75.9 kB\u001b[0m \u001b[31m3.7 MB/s\u001b[0m eta \u001b[36m0:00:00\u001b[0m\n",
            "\u001b[2K     \u001b[90m━━━━━━━━━━━━━━━━━━━━━━━━━━━━━━━━━━━━━━━━\u001b[0m \u001b[32m49.4/49.4 kB\u001b[0m \u001b[31m1.5 MB/s\u001b[0m eta \u001b[36m0:00:00\u001b[0m\n",
            "\u001b[2K     \u001b[90m━━━━━━━━━━━━━━━━━━━━━━━━━━━━━━━━━━━━━━━━\u001b[0m \u001b[32m76.9/76.9 kB\u001b[0m \u001b[31m4.4 MB/s\u001b[0m eta \u001b[36m0:00:00\u001b[0m\n",
            "\u001b[2K     \u001b[90m━━━━━━━━━━━━━━━━━━━━━━━━━━━━━━━━━━━━━━━━\u001b[0m \u001b[32m58.3/58.3 kB\u001b[0m \u001b[31m2.9 MB/s\u001b[0m eta \u001b[36m0:00:00\u001b[0m\n",
            "\u001b[?25h\u001b[31mERROR: pip's dependency resolver does not currently take into account all the packages that are installed. This behaviour is the source of the following dependency conflicts.\n",
            "llmx 0.0.15a0 requires cohere, which is not installed.\n",
            "tensorflow-probability 0.22.0 requires typing-extensions<4.6.0, but you have typing-extensions 4.9.0 which is incompatible.\u001b[0m\u001b[31m\n",
            "\u001b[0m"
          ]
        }
      ],
      "source": [
        "!pip -q install langchain openai tiktoken yfinance\n"
      ]
    },
    {
      "cell_type": "code",
      "source": [
        "import os\n",
        "\n",
        "os.environ[\"OPENAI_API_KEY\"] ="
      ],
      "metadata": {
        "id": "dNA4TsHpu6OM"
      },
      "execution_count": null,
      "outputs": []
    },
    {
      "cell_type": "code",
      "source": [
        "!pip show langchain"
      ],
      "metadata": {
        "id": "J-KFB7J_u_3L",
        "colab": {
          "base_uri": "https://localhost:8080/"
        },
        "outputId": "1fd0d676-b49e-4e9d-851d-ef2051b76155"
      },
      "execution_count": null,
      "outputs": [
        {
          "output_type": "stream",
          "name": "stdout",
          "text": [
            "Name: langchain\n",
            "Version: 0.0.354\n",
            "Summary: Building applications with LLMs through composability\n",
            "Home-page: https://github.com/langchain-ai/langchain\n",
            "Author: \n",
            "Author-email: \n",
            "License: MIT\n",
            "Location: /usr/local/lib/python3.10/dist-packages\n",
            "Requires: aiohttp, async-timeout, dataclasses-json, jsonpatch, langchain-community, langchain-core, langsmith, numpy, pydantic, PyYAML, requests, SQLAlchemy, tenacity\n",
            "Required-by: \n"
          ]
        }
      ]
    },
    {
      "cell_type": "markdown",
      "source": [
        "## Understanding OpenAI Functions"
      ],
      "metadata": {
        "id": "tGsd4tc_WC9P"
      }
    },
    {
      "cell_type": "markdown",
      "source": [
        "### Simple example"
      ],
      "metadata": {
        "id": "0aOMX8logkFm"
      }
    },
    {
      "cell_type": "code",
      "source": [
        "functions = [\n",
        "    {\n",
        "        \"name\": \"get_current_weather\",\n",
        "        \"description\": \"Get the current weather\",\n",
        "        \"parameters\": {\n",
        "            \"type\": \"object\",\n",
        "            \"properties\": {\n",
        "                \"location\": {\n",
        "                    \"type\": \"string\",\n",
        "                    \"description\": \"The city and state, e.g. San Francisco, CA\",\n",
        "                },\n",
        "                \"format\": {\n",
        "                    \"type\": \"string\",\n",
        "                    \"enum\": [\"celsius\", \"fahrenheit\"],\n",
        "                    \"description\": \"The temperature unit to use. Infer this from the users location.\",\n",
        "                },\n",
        "            },\n",
        "            \"required\": [\"location\", \"format\"],\n",
        "        },\n",
        "    }\n",
        "]"
      ],
      "metadata": {
        "id": "VoCQg4K_gu31"
      },
      "execution_count": null,
      "outputs": []
    },
    {
      "cell_type": "markdown",
      "source": [
        "[link text](https://)### Setting up YFinance\n"
      ],
      "metadata": {
        "id": "HqwsGJDhvAQ5"
      }
    },
    {
      "cell_type": "code",
      "source": [
        "import yfinance as yf\n",
        "\n",
        "def get_stock_price(symbol):\n",
        "    ticker = yf.Ticker(symbol)\n",
        "    todays_data = ticker.history(period='1d')\n",
        "    return round(todays_data['Close'][0], 2)\n",
        "\n",
        "# use the function\n",
        "print(get_stock_price('AAPL'))\n",
        "\n"
      ],
      "metadata": {
        "id": "YRI5440YQQGC",
        "colab": {
          "base_uri": "https://localhost:8080/"
        },
        "outputId": "2ec34246-48da-4c3b-eb4e-798100c5b7b0"
      },
      "execution_count": null,
      "outputs": [
        {
          "output_type": "stream",
          "name": "stdout",
          "text": [
            "184.25\n"
          ]
        }
      ]
    },
    {
      "cell_type": "code",
      "source": [
        "# use the function\n",
        "print(get_stock_price('GOOG'))"
      ],
      "metadata": {
        "colab": {
          "base_uri": "https://localhost:8080/"
        },
        "id": "0wg282JoTCyx",
        "outputId": "51076b03-ef2a-44ad-94a7-ff74301ad000"
      },
      "execution_count": null,
      "outputs": [
        {
          "output_type": "stream",
          "name": "stdout",
          "text": [
            "140.36\n"
          ]
        }
      ]
    },
    {
      "cell_type": "markdown",
      "source": [
        "### Setting up tools"
      ],
      "metadata": {
        "id": "bu0S2hVvhL9U"
      }
    },
    {
      "cell_type": "code",
      "source": [
        "from langchain.tools import BaseTool\n",
        "from typing import Optional, Type\n",
        "from langchain.agents import initialize_agent, Tool\n",
        "from langchain.agents import AgentType\n",
        "from langchain.chat_models import ChatOpenAI"
      ],
      "metadata": {
        "id": "HMsQheoUhOWy"
      },
      "execution_count": null,
      "outputs": []
    },
    {
      "cell_type": "code",
      "source": [
        "# # from langchain.tools import DuckDuckGoSearchTool\n",
        "# from langchain.agents import Tool\n",
        "# from langchain.tools import BaseTool\n",
        "\n",
        "# # search = DuckDuckGoSearchTool()\n",
        "# # # defining a single tool\n",
        "# # tools = [\n",
        "# #     Tool(\n",
        "# #         name = \"search\",\n",
        "# #         func=search.run,\n",
        "# #         description=\"useful for when you need to answer questions about current events. You should ask targeted questions\"\n",
        "# #     )\n",
        "# # ]"
      ],
      "metadata": {
        "id": "5RZ8J3RihbPN"
      },
      "execution_count": null,
      "outputs": []
    },
    {
      "cell_type": "code",
      "source": [
        "from pydantic import BaseModel, Field\n",
        "\n",
        "class StockPriceCheckInput(BaseModel):\n",
        "    \"\"\"Input for Stock price check.\"\"\"\n",
        "\n",
        "    stockticker: str = Field(..., description=\"Ticker symbol for stock or index\")\n"
      ],
      "metadata": {
        "id": "Qdcr69QZoFJm"
      },
      "execution_count": null,
      "outputs": []
    },
    {
      "cell_type": "code",
      "source": [
        "class StockPriceTool(BaseTool):\n",
        "    name = \"get_stock_ticker_price\"\n",
        "    description = \"Useful for when you need to find out the price of stock. You should input the stock ticker used on the yfinance API\"\n",
        "\n",
        "    def _run(self, stockticker: str):\n",
        "        # print(\"i'm running\")\n",
        "        price_response = get_stock_price(stockticker)\n",
        "\n",
        "        return price_response\n",
        "\n",
        "    def _arun(self, stockticker: str):\n",
        "        raise NotImplementedError(\"This tool does not support async\")\n",
        "\n",
        "    args_schema: Optional[Type[BaseModel]] = StockPriceCheckInput\n"
      ],
      "metadata": {
        "id": "BiWuFYxzmDyR"
      },
      "execution_count": null,
      "outputs": []
    },
    {
      "cell_type": "code",
      "source": [
        "# StockPriceTool = Tool(\n",
        "#     name='Get Stock Ticker price',\n",
        "#     func= get_stock_price,\n",
        "#     description=\"Useful for when you need to find out the price of stock. You should input the stock ticker used on the yfinance API\"\n",
        "# )"
      ],
      "metadata": {
        "id": "-UwMNnkUhg6N"
      },
      "execution_count": null,
      "outputs": []
    },
    {
      "cell_type": "markdown",
      "source": [
        "## LangChain doing it Manualy\n",
        "\n",
        "*   List item\n",
        "*   List item\n",
        "\n"
      ],
      "metadata": {
        "id": "co-Wa69TWAUg"
      }
    },
    {
      "cell_type": "code",
      "source": [
        "from langchain.chat_models import ChatOpenAI\n",
        "from langchain.schema import HumanMessage, AIMessage, ChatMessage, FunctionMessage"
      ],
      "metadata": {
        "id": "LKlnewa8UP7H"
      },
      "execution_count": null,
      "outputs": []
    },
    {
      "cell_type": "code",
      "source": [
        "model = ChatOpenAI(model=\"gpt-3.5-turbo-0613\")"
      ],
      "metadata": {
        "id": "7xUwdGJybkmK"
      },
      "execution_count": null,
      "outputs": []
    },
    {
      "cell_type": "code",
      "source": [
        "from langchain.tools import MoveFileTool, format_tool_to_openai_function"
      ],
      "metadata": {
        "id": "G4uYEmS9bmv0"
      },
      "execution_count": null,
      "outputs": []
    },
    {
      "cell_type": "code",
      "source": [
        "{'name': 'move_file',\n",
        " 'description': 'Move or rename a file from one location to another',\n",
        " 'parameters': {'title': 'FileMoveInput',\n",
        "                'description': 'Input for MoveFileTool.',\n",
        "                'type': 'object',\n",
        "                'properties': {'source_path': {'title': 'Source Path',\n",
        "                                               'description': 'Path of the file to move',\n",
        "                                               'type': 'string'},\n",
        "                               'destination_path': {'title': 'Destination Path',\n",
        "                                               'description': 'New path for the moved file',\n",
        "                                               'type': 'string'}},\n",
        "                'required': ['source_path', 'destination_path']}}"
      ],
      "metadata": {
        "colab": {
          "base_uri": "https://localhost:8080/"
        },
        "id": "oiUB4r15kw3V",
        "outputId": "6bb8d03c-c607-4601-c1b1-6473bcffb3c6"
      },
      "execution_count": null,
      "outputs": [
        {
          "output_type": "execute_result",
          "data": {
            "text/plain": [
              "{'name': 'move_file',\n",
              " 'description': 'Move or rename a file from one location to another',\n",
              " 'parameters': {'title': 'FileMoveInput',\n",
              "  'description': 'Input for MoveFileTool.',\n",
              "  'type': 'object',\n",
              "  'properties': {'source_path': {'title': 'Source Path',\n",
              "    'description': 'Path of the file to move',\n",
              "    'type': 'string'},\n",
              "   'destination_path': {'title': 'Destination Path',\n",
              "    'description': 'New path for the moved file',\n",
              "    'type': 'string'}},\n",
              "  'required': ['source_path', 'destination_path']}}"
            ]
          },
          "metadata": {},
          "execution_count": 14
        }
      ]
    },
    {
      "cell_type": "code",
      "source": [
        "# |MoveFileTool().args_schema.schema()"
      ],
      "metadata": {
        "id": "fQnwupGhjI0_"
      },
      "execution_count": null,
      "outputs": []
    },
    {
      "cell_type": "code",
      "source": [
        "tools = [StockPriceTool()]\n",
        "functions = [format_tool_to_openai_function(t) for t in tools]"
      ],
      "metadata": {
        "id": "Kz5J15J3bv08"
      },
      "execution_count": null,
      "outputs": []
    },
    {
      "cell_type": "code",
      "source": [
        "functions[0]"
      ],
      "metadata": {
        "colab": {
          "base_uri": "https://localhost:8080/"
        },
        "id": "ElmmJgpWi2ax",
        "outputId": "bf99a559-80e5-4399-c19f-243a41b8df71"
      },
      "execution_count": null,
      "outputs": [
        {
          "output_type": "execute_result",
          "data": {
            "text/plain": [
              "{'name': 'get_stock_ticker_price',\n",
              " 'description': 'Useful for when you need to find out the price of stock. You should input the stock ticker used on the yfinance API',\n",
              " 'parameters': {'title': 'StockPriceCheckInput',\n",
              "  'description': 'Input for Stock price check.',\n",
              "  'type': 'object',\n",
              "  'properties': {'stockticker': {'title': 'Stockticker',\n",
              "    'description': 'Ticker symbol for stock or index',\n",
              "    'type': 'string'}},\n",
              "  'required': ['stockticker']}}"
            ]
          },
          "metadata": {},
          "execution_count": 16
        }
      ]
    },
    {
      "cell_type": "code",
      "source": [
        "ai_message = model.predict_messages([HumanMessage(content='What is the price of Google stock')], functions=functions)"
      ],
      "metadata": {
        "id": "KMtU1sWTbnZB"
      },
      "execution_count": null,
      "outputs": []
    },
    {
      "cell_type": "code",
      "source": [
        "ai_message"
      ],
      "metadata": {
        "colab": {
          "base_uri": "https://localhost:8080/"
        },
        "id": "pYvQ1boLbqi2",
        "outputId": "ce1c8724-fef2-4eee-f998-3fb796b53e74"
      },
      "execution_count": null,
      "outputs": [
        {
          "output_type": "execute_result",
          "data": {
            "text/plain": [
              "AIMessage(content='', additional_kwargs={'function_call': {'arguments': '{\\n  \"stockticker\": \"GOOGL\"\\n}', 'name': 'get_stock_ticker_price'}})"
            ]
          },
          "metadata": {},
          "execution_count": 18
        }
      ]
    },
    {
      "cell_type": "code",
      "source": [
        "ai_message.additional_kwargs['function_call']"
      ],
      "metadata": {
        "colab": {
          "base_uri": "https://localhost:8080/"
        },
        "id": "ANcp0LEIctol",
        "outputId": "dc64955d-e30f-4395-d79e-65e398b04f4b"
      },
      "execution_count": null,
      "outputs": [
        {
          "output_type": "execute_result",
          "data": {
            "text/plain": [
              "{'arguments': '{\\n  \"stockticker\": \"GOOGL\"\\n}',\n",
              " 'name': 'get_stock_ticker_price'}"
            ]
          },
          "metadata": {},
          "execution_count": 19
        }
      ]
    },
    {
      "cell_type": "code",
      "source": [
        "import json\n",
        "_args = json.loads(ai_message.additional_kwargs['function_call'].get('arguments'))\n",
        "_args"
      ],
      "metadata": {
        "colab": {
          "base_uri": "https://localhost:8080/"
        },
        "id": "VSpgKqFDgUJf",
        "outputId": "85159472-a27f-4318-b5c3-722dd7c18422"
      },
      "execution_count": null,
      "outputs": [
        {
          "output_type": "execute_result",
          "data": {
            "text/plain": [
              "{'stockticker': 'GOOGL'}"
            ]
          },
          "metadata": {},
          "execution_count": 20
        }
      ]
    },
    {
      "cell_type": "code",
      "source": [
        "tool_result = tools[0](_args)\n",
        "tool_result"
      ],
      "metadata": {
        "colab": {
          "base_uri": "https://localhost:8080/"
        },
        "id": "PMQUp-Y5OIMH",
        "outputId": "d3650ec1-5e82-469a-e609-28222548df5a"
      },
      "execution_count": null,
      "outputs": [
        {
          "output_type": "execute_result",
          "data": {
            "text/plain": [
              "138.92"
            ]
          },
          "metadata": {},
          "execution_count": 21
        }
      ]
    },
    {
      "cell_type": "code",
      "source": [
        "FunctionMessage(name='get_stock_ticker_price',content=tool_result)"
      ],
      "metadata": {
        "colab": {
          "base_uri": "https://localhost:8080/"
        },
        "id": "HSCjOF9fSRcM",
        "outputId": "0a1f53a2-ae46-462a-ba16-44f5f7965626"
      },
      "execution_count": null,
      "outputs": [
        {
          "output_type": "execute_result",
          "data": {
            "text/plain": [
              "FunctionMessage(content='138.92', name='get_stock_ticker_price')"
            ]
          },
          "metadata": {},
          "execution_count": 22
        }
      ]
    },
    {
      "cell_type": "code",
      "source": [
        "final_message = model.predict_messages([HumanMessage(content='What is the price of Google stock'),\n",
        "                                  ai_message,\n",
        "                                  FunctionMessage(name='get_stock_ticker_price',content=tool_result),\n",
        "                                  ], functions=functions)"
      ],
      "metadata": {
        "id": "n5dlRG48OUAk"
      },
      "execution_count": null,
      "outputs": []
    },
    {
      "cell_type": "code",
      "source": [
        "final_message"
      ],
      "metadata": {
        "colab": {
          "base_uri": "https://localhost:8080/"
        },
        "id": "AGDw7MfwQm2b",
        "outputId": "468250de-5e5c-415c-8ac1-2b918af78ddb"
      },
      "execution_count": null,
      "outputs": [
        {
          "output_type": "execute_result",
          "data": {
            "text/plain": [
              "AIMessage(content='The price of Google stock (GOOGL) is $138.92.')"
            ]
          },
          "metadata": {},
          "execution_count": 24
        }
      ]
    },
    {
      "cell_type": "markdown",
      "source": [
        "\n",
        "\n",
        "```\n",
        "# This is formatted as code\n",
        "```\n",
        "\n",
        "## Putting it together as an Agent"
      ],
      "metadata": {
        "id": "9vqB7Ag3Pa33"
      }
    },
    {
      "cell_type": "code",
      "source": [
        "llm = ChatOpenAI(temperature=0, model=\"gpt-3.5-turbo-0613\")"
      ],
      "metadata": {
        "id": "ThsbsO3qPnfO"
      },
      "execution_count": null,
      "outputs": []
    },
    {
      "cell_type": "code",
      "source": [
        "open_ai_agent = initialize_agent(tools,\n",
        "                        llm,\n",
        "                        agent=AgentType.OPENAI_FUNCTIONS,\n",
        "                        verbose=True)"
      ],
      "metadata": {
        "id": "0LKxJ6fcPeQf"
      },
      "execution_count": null,
      "outputs": []
    },
    {
      "cell_type": "code",
      "source": [
        "open_ai_agent.run(\"What is the price of Lockheed\")"
      ],
      "metadata": {
        "colab": {
          "base_uri": "https://localhost:8080/",
          "height": 209
        },
        "id": "aAoc0zJ_PjIJ",
        "outputId": "6672e5dd-2bf3-460b-b7c2-ba239867ad3b"
      },
      "execution_count": null,
      "outputs": [
        {
          "output_type": "stream",
          "name": "stdout",
          "text": [
            "\n",
            "\n",
            "\u001b[1m> Entering new AgentExecutor chain...\u001b[0m\n",
            "\u001b[32;1m\u001b[1;3m\n",
            "Invoking: `get_stock_ticker_price` with `{'stockticker': 'LMT'}`\n",
            "\n",
            "\n",
            "\u001b[0m\u001b[36;1m\u001b[1;3m459.12\u001b[0m\u001b[32;1m\u001b[1;3mThe current price of Lockheed Martin Corporation (LMT) is $459.12.\u001b[0m\n",
            "\n",
            "\u001b[1m> Finished chain.\u001b[0m\n"
          ]
        },
        {
          "output_type": "execute_result",
          "data": {
            "text/plain": [
              "'The current price of Lockheed Martin Corporation (LMT) is $459.12.'"
            ],
            "application/vnd.google.colaboratory.intrinsic+json": {
              "type": "string"
            }
          },
          "metadata": {},
          "execution_count": 28
        }
      ]
    },
    {
      "cell_type": "markdown",
      "source": [
        "## OpenAI Functions Agent\n",
        "\n",
        "### Advantages\n",
        "- Better reasoning and tool selection than ReACT / Toolformer?\n",
        "- Less tokens needed\n",
        "\n",
        "### Disadvantages\n",
        "- Not as easy to customize via prompt change etc if it doesn't work\n",
        "- locks you code into the OpenAI way\n",
        "- Still need tokens for Tool/Function descriptions"
      ],
      "metadata": {
        "id": "R9PVLXLmThML"
      }
    },
    {
      "cell_type": "markdown",
      "source": [
        "## Multiple Tools"
      ],
      "metadata": {
        "id": "lohFBZ5HdbcR"
      }
    },
    {
      "cell_type": "code",
      "source": [
        "from datetime import datetime, timedelta\n",
        "\n",
        "def get_price_change_percent(symbol, days_ago):\n",
        "    ticker = yf.Ticker(symbol)\n",
        "\n",
        "    # Get today's date\n",
        "    end_date = datetime.now()\n",
        "\n",
        "    # Get the date N days ago\n",
        "    start_date = end_date - timedelta(days=days_ago)\n",
        "\n",
        "    # Convert dates to string format that yfinance can accept\n",
        "    start_date = start_date.strftime('%Y-%m-%d')\n",
        "    end_date = end_date.strftime('%Y-%m-%d')\n",
        "\n",
        "    # Get the historical data\n",
        "    historical_data = ticker.history(start=start_date, end=end_date)\n",
        "\n",
        "    # Get the closing price N days ago and today's closing price\n",
        "    old_price = historical_data['Close'].iloc[0]\n",
        "    new_price = historical_data['Close'].iloc[-1]\n",
        "\n",
        "    # Calculate the percentage change\n",
        "    percent_change = ((new_price - old_price) / old_price) * 100\n",
        "\n",
        "    return round(percent_change, 2)\n",
        "\n",
        "# Use the function\n",
        "print(get_price_change_percent('AAPL', 90))  # for 30 days ago\n"
      ],
      "metadata": {
        "colab": {
          "base_uri": "https://localhost:8080/"
        },
        "id": "-HSx3t8QTyKj",
        "outputId": "10b02bcb-c4c5-441e-e7e5-6eaeec55f93c"
      },
      "execution_count": null,
      "outputs": [
        {
          "output_type": "stream",
          "name": "stdout",
          "text": [
            "3.95\n"
          ]
        }
      ]
    },
    {
      "cell_type": "code",
      "source": [
        "import yfinance as yf\n",
        "from datetime import datetime, timedelta\n",
        "\n",
        "def calculate_performance(symbol, days_ago):\n",
        "    ticker = yf.Ticker(symbol)\n",
        "    end_date = datetime.now()\n",
        "    start_date = end_date - timedelta(days=days_ago)\n",
        "    start_date = start_date.strftime('%Y-%m-%d')\n",
        "    end_date = end_date.strftime('%Y-%m-%d')\n",
        "    historical_data = ticker.history(start=start_date, end=end_date)\n",
        "    old_price = historical_data['Close'].iloc[0]\n",
        "    new_price = historical_data['Close'].iloc[-1]\n",
        "    percent_change = ((new_price - old_price) / old_price) * 100\n",
        "    return round(percent_change, 2)\n",
        "\n",
        "def get_best_performing(stocks, days_ago):\n",
        "    best_stock = None\n",
        "    best_performance = None\n",
        "    for stock in stocks:\n",
        "        try:\n",
        "            performance = calculate_performance(stock, days_ago)\n",
        "            if best_performance is None or performance > best_performance:\n",
        "                best_stock = stock\n",
        "                best_performance = performance\n",
        "        except Exception as e:\n",
        "            print(f\"Could not calculate performance for {stock}: {e}\")\n",
        "    return best_stock, best_performance\n",
        "\n",
        "stocks = ['AAPL', 'MSFT', 'GOOG']\n",
        "days_ago = 90  # change as desired\n",
        "\n",
        "best_stock, best_performance = get_best_performing(stocks, days_ago)\n",
        "print(f\"The best performing stock over the past {days_ago} days is {best_stock} with a performance of {best_performance}%\")\n"
      ],
      "metadata": {
        "colab": {
          "base_uri": "https://localhost:8080/"
        },
        "id": "r-GTzpC9VOEM",
        "outputId": "c6f50a53-4df3-43fd-ceb4-34482fead2f6"
      },
      "execution_count": null,
      "outputs": [
        {
          "output_type": "stream",
          "name": "stdout",
          "text": [
            "The best performing stock over the past 90 days is MSFT with a performance of 13.47%\n"
          ]
        }
      ]
    },
    {
      "cell_type": "code",
      "source": [
        "import numpy as np\n",
        "import pandas as pd\n",
        "\n",
        "def monte_carlo_simulation(stock_ticker, days_in_future, num_simulations=5):\n",
        "    data = yf.download(stock_ticker, period='1y')\n",
        "    daily_returns = data['Close'].pct_change().dropna()\n",
        "    mean_daily_return = daily_returns.mean()\n",
        "    std_daily_return = daily_returns.std()\n",
        "\n",
        "    last_price = data['Close'].iloc[-1]\n",
        "    simulation_df = pd.DataFrame()\n",
        "\n",
        "    for x in range(num_simulations):\n",
        "        count = 0\n",
        "        daily_volatility = std_daily_return\n",
        "        price_series = []\n",
        "        price = last_price * (1 + np.random.normal(mean_daily_return, daily_volatility))\n",
        "        price_series.append(price)\n",
        "\n",
        "        for y in range(days_in_future):\n",
        "            if count == 251:\n",
        "                break\n",
        "            price = price_series[count] * (1 + np.random.normal(mean_daily_return, daily_volatility))\n",
        "            price_series.append(price)\n",
        "            count += 1\n",
        "\n",
        "        simulation_df[x] = price_series\n",
        "\n",
        "    return simulation_df"
      ],
      "metadata": {
        "id": "MEe8mjPQJmTU"
      },
      "execution_count": null,
      "outputs": []
    },
    {
      "cell_type": "markdown",
      "source": [
        "# ***Monte caro option***"
      ],
      "metadata": {
        "id": "4O_6O_7inAMO"
      }
    },
    {
      "cell_type": "code",
      "source": [
        "import numpy as np\n",
        "import pandas as pd\n",
        "import matplotlib.pyplot as plt\n",
        "import yfinance as yf\n",
        "\n",
        "def monte_carlo_option_pricing(stock_ticker, strike_price, days_to_expiry, num_simulations=5, risk_free_rate=0.01):\n",
        "    # Download historical data\n",
        "    data = yf.download(stock_ticker, period='1y')\n",
        "    daily_returns = data['Close'].pct_change().dropna()\n",
        "    mean_daily_return = daily_returns.mean()\n",
        "    std_daily_return = daily_returns.std()\n",
        "\n",
        "    last_price = data['Close'].iloc[-1]\n",
        "\n",
        "    # Convert days to years for expiry\n",
        "    time_to_expiry = days_to_expiry / 252\n",
        "\n",
        "    # Store the results of each simulation\n",
        "    simulated_option_prices = []\n",
        "\n",
        "    # Monte Carlo simulation\n",
        "    for _ in range(num_simulations):\n",
        "        # Simulating the stock price path\n",
        "        price_path = [last_price]\n",
        "        for _ in range(days_to_expiry):\n",
        "            drift = (risk_free_rate - 0.5 * std_daily_return**2)\n",
        "            shock = std_daily_return * np.random.normal()\n",
        "            price = price_path[-1] * np.exp(drift + shock)\n",
        "            price_path.append(price)\n",
        "\n",
        "        # Calculate the payoff for European Call Option\n",
        "        payoff = max(price_path[-1] - strike_price, 0)\n",
        "\n",
        "        # Discount the payoff to present value and store\n",
        "        discounted_payoff = np.exp(-risk_free_rate * time_to_expiry) * payoff\n",
        "        simulated_option_prices.append(discounted_payoff)\n",
        "\n",
        "    # Calculate average price of the option across all simulations\n",
        "    estimated_option_price = np.mean(simulated_option_prices)\n",
        "\n",
        "    # Plotting the results\n",
        "    plt.figure(figsize=(10, 6))\n",
        "    plt.hist(simulated_option_prices, bins=30, alpha=0.75, color='blue')\n",
        "    plt.title(f'Distribution of Simulated Option Prices for {stock_ticker}')\n",
        "    plt.xlabel('Option Price')\n",
        "    plt.ylabel('Frequency')\n",
        "    plt.axvline(estimated_option_price, color='red', linestyle='dashed', linewidth=2)\n",
        "    plt.show()\n",
        "\n",
        "    return estimated_option_price\n",
        "\n",
        "\n"
      ],
      "metadata": {
        "id": "K7pHs7MhnACG"
      },
      "execution_count": null,
      "outputs": []
    },
    {
      "cell_type": "markdown",
      "source": [
        "### Make the Tools"
      ],
      "metadata": {
        "id": "itlzbGZ5hTDx"
      }
    },
    {
      "cell_type": "code",
      "source": [
        "from typing import List\n",
        "\n",
        "\n",
        "# Define the input model for option pricing\n",
        "class OptionPricingInput(BaseModel):\n",
        "    stock_ticker: str = Field(..., description=\"Ticker symbol for the stock\")\n",
        "    strike_price: float = Field(..., description=\"Strike price of the option\")\n",
        "    days_in_future: int = Field(..., description=\"Number of days until option expiration\")\n",
        "    num_simulations: int = Field(..., description=\"Number of simulation paths\")\n",
        "    risk_free_rate: float = Field(..., description=\"Risk-free interest rate\")\n",
        "\n",
        "# Option pricing tool using Monte Carlo simulation\n",
        "class MonteCarloOptionPricingTool(BaseTool):\n",
        "    name = \"monte_carlo_option_pricing\"\n",
        "    description = \"Simulates option pricing for a given stock, strike price, and expiration period using the Monte Carlo method\"\n",
        "\n",
        "    def _run(self, stock_ticker: str, strike_price: float, days_in_future: int, num_simulations: int, risk_free_rate: float):\n",
        "        return monte_carlo_option_pricing(stock_ticker, strike_price, days_in_future, num_simulations, risk_free_rate)\n",
        "\n",
        "    def _arun(self, stock_ticker: str, strike_price: float, days_in_future: int, num_simulations: int, risk_free_rate: float):\n",
        "        raise NotImplementedError(\"This tool does not support async\")\n",
        "\n",
        "    args_schema: Optional[Type[BaseModel]] = OptionPricingInput\n",
        "\n",
        "class StockChangePercentageCheckInput(BaseModel):\n",
        "    \"\"\"Input for Stock ticker check. for percentage check\"\"\"\n",
        "\n",
        "    stockticker: str = Field(..., description=\"Ticker symbol for stock or index\")\n",
        "    days_ago: int = Field(..., description=\"Int number of days to look back\")\n",
        "\n",
        "class StockPercentageChangeTool(BaseTool):\n",
        "    name = \"get_price_change_percent\"\n",
        "    description = \"Useful for when you need to find out the percentage change in a stock's value. You should input the stock ticker used on the yfinance API and also input the number of days to check the change over\"\n",
        "\n",
        "    def _run(self, stockticker: str, days_ago: int):\n",
        "        price_change_response = get_price_change_percent(stockticker, days_ago)\n",
        "\n",
        "        return price_change_response\n",
        "\n",
        "    def _arun(self, stockticker: str, days_ago: int):\n",
        "        raise NotImplementedError(\"This tool does not support async\")\n",
        "\n",
        "    args_schema: Optional[Type[BaseModel]] = StockChangePercentageCheckInput\n",
        "\n",
        "\n",
        "# the best performing\n",
        "\n",
        "class StockBestPerformingInput(BaseModel):\n",
        "    \"\"\"Input for Stock ticker check. for percentage check\"\"\"\n",
        "\n",
        "    stocktickers: List[str] = Field(..., description=\"Ticker symbols for stocks or indices\")\n",
        "    days_ago: int = Field(..., description=\"Int number of days to look back\")\n",
        "\n",
        "class StockGetBestPerformingTool(BaseTool):\n",
        "    name = \"get_best_performing\"\n",
        "    description = \"Useful for when you need to the performance of multiple stocks over a period. You should input a list of stock tickers used on the yfinance API and also input the number of days to check the change over\"\n",
        "\n",
        "    def _run(self, stocktickers: List[str], days_ago: int):\n",
        "        price_change_response = get_best_performing(stocktickers, days_ago)\n",
        "\n",
        "        return price_change_response\n",
        "\n",
        "    def _arun(self, stockticker: List[str], days_ago: int):\n",
        "        raise NotImplementedError(\"This tool does not support async\")\n",
        "\n",
        "    args_schema: Optional[Type[BaseModel]] = StockBestPerformingInput\n",
        "\n",
        "### Monte Carlo simulation\n",
        "\n",
        "class MonteCarloInput(BaseModel):\n",
        "    stock_ticker: str = Field(..., description=\"Ticker symbol for the stock\")\n",
        "    days_in_future: int = Field(..., description=\"Number of days to simulate into the future\")\n",
        "    num_simulations: int = Field(..., description=\"Number of simulation paths\")\n",
        "\n",
        "class MonteCarloTool(BaseTool):\n",
        "    name = \"monte_carlo_simulation\"\n",
        "    description = \"Simulates stock price for a given number of days into the future using the Monte Carlo method\"\n",
        "\n",
        "    def _run(self, stock_ticker: str, days_in_future: int, num_simulations: int):\n",
        "        return monte_carlo_simulation(stock_ticker, days_in_future, num_simulations)\n",
        "\n",
        "    def _arun(self, stock_ticker: str, days_in_future: int, num_simulations: int):\n",
        "        raise NotImplementedError(\"This tool does not support async\")\n",
        "\n",
        "    args_schema: Optional[Type[BaseModel]] = MonteCarloInput\n"
      ],
      "metadata": {
        "id": "74147GgQP0fd"
      },
      "execution_count": null,
      "outputs": []
    },
    {
      "cell_type": "code",
      "source": [
        "tools = [StockPriceTool(),StockPercentageChangeTool(), StockGetBestPerformingTool(), MonteCarloTool(), MonteCarloOptionPricingTool()]\n",
        "\n",
        "# functions = [format_tool_to_openai_function(t) for t in tools]"
      ],
      "metadata": {
        "id": "SK9yuhQ9evMl"
      },
      "execution_count": null,
      "outputs": []
    },
    {
      "cell_type": "code",
      "source": [
        "tools"
      ],
      "metadata": {
        "colab": {
          "base_uri": "https://localhost:8080/"
        },
        "id": "igqJ4T73e4b1",
        "outputId": "208ad9d5-750c-47d5-bfc7-f1280ec685cc"
      },
      "execution_count": null,
      "outputs": [
        {
          "output_type": "execute_result",
          "data": {
            "text/plain": [
              "[StockPriceTool(),\n",
              " StockPercentageChangeTool(),\n",
              " StockGetBestPerformingTool(),\n",
              " MonteCarloTool(),\n",
              " MonteCarloOptionPricingTool()]"
            ]
          },
          "metadata": {},
          "execution_count": 69
        }
      ]
    },
    {
      "cell_type": "code",
      "source": [
        "llm = ChatOpenAI(temperature=0, model=\"gpt-3.5-turbo-0613\")"
      ],
      "metadata": {
        "id": "JZiw1RsTe_ch"
      },
      "execution_count": null,
      "outputs": []
    },
    {
      "cell_type": "code",
      "source": [
        "open_ai_agent = initialize_agent(tools,\n",
        "                        llm,\n",
        "                        agent=AgentType.OPENAI_FUNCTIONS,\n",
        "                        verbose=True)"
      ],
      "metadata": {
        "id": "K_XbiPuve_ci"
      },
      "execution_count": null,
      "outputs": []
    },
    {
      "cell_type": "code",
      "source": [
        "open_ai_agent.run(\"What is the price of Google stock today?\")"
      ],
      "metadata": {
        "colab": {
          "base_uri": "https://localhost:8080/",
          "height": 209
        },
        "outputId": "247a9252-1690-4ee7-ce20-17015e3dc78b",
        "id": "4YArEbHTe_ci"
      },
      "execution_count": null,
      "outputs": [
        {
          "output_type": "stream",
          "name": "stdout",
          "text": [
            "\n",
            "\n",
            "\u001b[1m> Entering new AgentExecutor chain...\u001b[0m\n",
            "\u001b[32;1m\u001b[1;3m\n",
            "Invoking: `get_stock_ticker_price` with `{'stockticker': 'GOOGL'}`\n",
            "\n",
            "\n",
            "\u001b[0m\u001b[36;1m\u001b[1;3m138.92\u001b[0m\u001b[32;1m\u001b[1;3mThe price of Google stock today is $138.92.\u001b[0m\n",
            "\n",
            "\u001b[1m> Finished chain.\u001b[0m\n"
          ]
        },
        {
          "output_type": "execute_result",
          "data": {
            "text/plain": [
              "'The price of Google stock today is $138.92.'"
            ],
            "application/vnd.google.colaboratory.intrinsic+json": {
              "type": "string"
            }
          },
          "metadata": {},
          "execution_count": 39
        }
      ]
    },
    {
      "cell_type": "code",
      "source": [
        "open_ai_agent.run(\"Has google's stock gone up over the past 90 days?\")"
      ],
      "metadata": {
        "colab": {
          "base_uri": "https://localhost:8080/",
          "height": 209
        },
        "id": "GvDaOc3cfD6I",
        "outputId": "973c8d73-0b46-46f7-a610-f1aa1eabe341"
      },
      "execution_count": null,
      "outputs": [
        {
          "output_type": "stream",
          "name": "stdout",
          "text": [
            "\n",
            "\n",
            "\u001b[1m> Entering new AgentExecutor chain...\u001b[0m\n",
            "\u001b[32;1m\u001b[1;3m\n",
            "Invoking: `get_price_change_percent` with `{'stockticker': 'GOOGL', 'days_ago': 90}`\n",
            "\n",
            "\n",
            "\u001b[0m\u001b[33;1m\u001b[1;3m3.29\u001b[0m\u001b[32;1m\u001b[1;3mYes, Google's stock (GOOGL) has gone up by 3.29% over the past 90 days.\u001b[0m\n",
            "\n",
            "\u001b[1m> Finished chain.\u001b[0m\n"
          ]
        },
        {
          "output_type": "execute_result",
          "data": {
            "text/plain": [
              "\"Yes, Google's stock (GOOGL) has gone up by 3.29% over the past 90 days.\""
            ],
            "application/vnd.google.colaboratory.intrinsic+json": {
              "type": "string"
            }
          },
          "metadata": {},
          "execution_count": 38
        }
      ]
    },
    {
      "cell_type": "code",
      "source": [
        "open_ai_agent.run(\"How much has google's stock gone up over the past 3 months?\")"
      ],
      "metadata": {
        "colab": {
          "base_uri": "https://localhost:8080/",
          "height": 209
        },
        "id": "oYeRS67WfsfZ",
        "outputId": "50ef3cb4-0e78-4c20-b189-7daf76289c6d"
      },
      "execution_count": null,
      "outputs": [
        {
          "output_type": "stream",
          "name": "stdout",
          "text": [
            "\n",
            "\n",
            "\u001b[1m> Entering new AgentExecutor chain...\u001b[0m\n",
            "\u001b[32;1m\u001b[1;3m\n",
            "Invoking: `get_price_change_percent` with `{'stockticker': 'GOOGL', 'days_ago': 90}`\n",
            "\n",
            "\n",
            "\u001b[0m\u001b[33;1m\u001b[1;3m0.97\u001b[0m\u001b[32;1m\u001b[1;3mGoogle's stock has gone up by approximately 0.97% over the past 3 months.\u001b[0m\n",
            "\n",
            "\u001b[1m> Finished chain.\u001b[0m\n"
          ]
        },
        {
          "output_type": "execute_result",
          "data": {
            "text/plain": [
              "\"Google's stock has gone up by approximately 0.97% over the past 3 months.\""
            ],
            "application/vnd.google.colaboratory.intrinsic+json": {
              "type": "string"
            }
          },
          "metadata": {},
          "execution_count": 62
        }
      ]
    },
    {
      "cell_type": "code",
      "source": [
        "open_ai_agent.run(\"Which stock out of Google, Meta and MSFT has performed best over the past 3 months?\")"
      ],
      "metadata": {
        "colab": {
          "base_uri": "https://localhost:8080/",
          "height": 209
        },
        "id": "jHjQYThCf0TO",
        "outputId": "3780f06b-cf60-47ac-c92e-fed8e3660465"
      },
      "execution_count": null,
      "outputs": [
        {
          "output_type": "stream",
          "name": "stdout",
          "text": [
            "\n",
            "\n",
            "\u001b[1m> Entering new AgentExecutor chain...\u001b[0m\n",
            "\u001b[32;1m\u001b[1;3m\n",
            "Invoking: `get_best_performing` with `{'stocktickers': ['GOOGL', 'META', 'MSFT'], 'days_ago': 90}`\n",
            "\n",
            "\n",
            "\u001b[0m\u001b[38;5;200m\u001b[1;3m('MSFT', 13.47)\u001b[0m\u001b[32;1m\u001b[1;3mMicrosoft (MSFT) has performed the best over the past 3 months with a return of 13.47%.\u001b[0m\n",
            "\n",
            "\u001b[1m> Finished chain.\u001b[0m\n"
          ]
        },
        {
          "output_type": "execute_result",
          "data": {
            "text/plain": [
              "'Microsoft (MSFT) has performed the best over the past 3 months with a return of 13.47%.'"
            ],
            "application/vnd.google.colaboratory.intrinsic+json": {
              "type": "string"
            }
          },
          "metadata": {},
          "execution_count": 63
        }
      ]
    },
    {
      "cell_type": "code",
      "source": [
        "open_ai_agent.run(\"How much has MSFT's stock gone up over the past 3 months?\")"
      ],
      "metadata": {
        "colab": {
          "base_uri": "https://localhost:8080/",
          "height": 209
        },
        "id": "C1rzyxrxjgY7",
        "outputId": "42d30aa5-4cfd-4f37-9a50-63a824404326"
      },
      "execution_count": null,
      "outputs": [
        {
          "output_type": "stream",
          "name": "stdout",
          "text": [
            "\n",
            "\n",
            "\u001b[1m> Entering new AgentExecutor chain...\u001b[0m\n",
            "\u001b[32;1m\u001b[1;3m\n",
            "Invoking: `get_price_change_percent` with `{'stockticker': 'MSFT', 'days_ago': 90}`\n",
            "\n",
            "\n",
            "\u001b[0m\u001b[33;1m\u001b[1;3m18.13\u001b[0m\u001b[32;1m\u001b[1;3mMicrosoft's stock (MSFT) has gone up by 18.13% over the past 3 months.\u001b[0m\n",
            "\n",
            "\u001b[1m> Finished chain.\u001b[0m\n"
          ]
        },
        {
          "output_type": "execute_result",
          "data": {
            "text/plain": [
              "\"Microsoft's stock (MSFT) has gone up by 18.13% over the past 3 months.\""
            ],
            "application/vnd.google.colaboratory.intrinsic+json": {
              "type": "string"
            }
          },
          "metadata": {},
          "execution_count": 41
        }
      ]
    },
    {
      "cell_type": "code",
      "source": [
        "open_ai_agent.run(\"How much has Bitcoin gone up over the past 3 months?\")"
      ],
      "metadata": {
        "colab": {
          "base_uri": "https://localhost:8080/",
          "height": 209
        },
        "id": "eqvQgs-Wjmdy",
        "outputId": "f6af72ef-901e-4eae-e511-22dcd0cb4473"
      },
      "execution_count": null,
      "outputs": [
        {
          "output_type": "stream",
          "name": "stdout",
          "text": [
            "\n",
            "\n",
            "\u001b[1m> Entering new AgentExecutor chain...\u001b[0m\n",
            "\u001b[32;1m\u001b[1;3m\n",
            "Invoking: `get_price_change_percent` with `{'stockticker': 'BTC-USD', 'days_ago': 90}`\n",
            "\n",
            "\n",
            "\u001b[0m\u001b[33;1m\u001b[1;3m52.04\u001b[0m\u001b[32;1m\u001b[1;3mBitcoin has gone up by 52.04% over the past 3 months.\u001b[0m\n",
            "\n",
            "\u001b[1m> Finished chain.\u001b[0m\n"
          ]
        },
        {
          "output_type": "execute_result",
          "data": {
            "text/plain": [
              "'Bitcoin has gone up by 52.04% over the past 3 months.'"
            ],
            "application/vnd.google.colaboratory.intrinsic+json": {
              "type": "string"
            }
          },
          "metadata": {},
          "execution_count": 42
        }
      ]
    },
    {
      "cell_type": "code",
      "source": [
        "response = open_ai_agent.run(\"Estimate the price of a 30-day call option for AAPL stock with a strike price of $170, assuming a risk-free rate of 1%, using 1000 Monte Carlo simulations.\")\n",
        "print(response)"
      ],
      "metadata": {
        "id": "CwZhZsH2pEW2",
        "colab": {
          "base_uri": "https://localhost:8080/",
          "height": 792
        },
        "outputId": "aa108036-fe5a-447a-c5b0-66aa3165759c"
      },
      "execution_count": null,
      "outputs": [
        {
          "output_type": "stream",
          "name": "stdout",
          "text": [
            "\n",
            "\n",
            "\u001b[1m> Entering new AgentExecutor chain...\u001b[0m\n",
            "\u001b[32;1m\u001b[1;3m\n",
            "Invoking: `monte_carlo_option_pricing` with `{'stock_ticker': 'AAPL', 'strike_price': 170, 'days_in_future': 30, 'num_simulations': 1000, 'risk_free_rate': 0.01}`\n",
            "\n",
            "\n",
            "[*********************100%%**********************]  1 of 1 completed\n"
          ]
        },
        {
          "output_type": "display_data",
          "data": {
            "text/plain": [
              "<Figure size 1000x600 with 1 Axes>"
            ],
            "image/png": "[encoded data removed]"
          },
          "metadata": {}
        },
        {
          "output_type": "stream",
          "name": "stdout",
          "text": [
            "\u001b[33;1m\u001b[1;3m75.86681151514239\u001b[0m\u001b[32;1m\u001b[1;3mThe estimated price of a 30-day call option for AAPL stock with a strike price of $170, assuming a risk-free rate of 1% and using 1000 Monte Carlo simulations, is approximately $75.87.\u001b[0m\n",
            "\n",
            "\u001b[1m> Finished chain.\u001b[0m\n",
            "The estimated price of a 30-day call option for AAPL stock with a strike price of $170, assuming a risk-free rate of 1% and using 1000 Monte Carlo simulations, is approximately $75.87.\n"
          ]
        }
      ]
    }
  ]
}